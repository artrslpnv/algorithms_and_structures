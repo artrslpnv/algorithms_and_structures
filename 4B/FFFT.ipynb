{
 "cells": [
  {
   "cell_type": "code",
   "execution_count": null,
   "metadata": {},
   "outputs": [],
   "source": [
    "import numpy as np\n",
    "from matplotlib import pyplot as plt\n",
    "import pandas as pd\n",
    "from math import *\n",
    "from scipy import interpolate\n",
    "%matplotlib inline"
   ]
  },
  {
   "cell_type": "code",
   "execution_count": null,
   "metadata": {},
   "outputs": [],
   "source": []
  },
  {
   "cell_type": "code",
   "execution_count": null,
   "metadata": {
    "scrolled": false
   },
   "outputs": [],
   "source": []
  },
  {
   "cell_type": "code",
   "execution_count": null,
   "metadata": {},
   "outputs": [],
   "source": [
    "\n",
    "#Cделам частоту дискретизации  для удобства 128, потому что так  гораздо легче обрабатывать.\n",
    "def FunctionDraw(f, title=\" \",T=10,N=128):\n",
    "    x = []\n",
    "    y = []\n",
    "    for i in range(1,N+1):\n",
    "        x.append(T/N*i)\n",
    "        y.append(f(T/N*i))\n",
    "    plt.xlabel(\"x\")\n",
    "    plt.ylabel(\"y\")\n",
    "    plt.title(title)\n",
    "    a1=plt.plot(x, y,'.b-')\n",
    "    plt.show()"
   ]
  },
  {
   "cell_type": "code",
   "execution_count": null,
   "metadata": {},
   "outputs": [],
   "source": [
    "def FFT (a):\n",
    "    n = len(a)\n",
    "    a_0=[]\n",
    "    a_1=[]\n",
    "    if (n == 1):\n",
    "        return [a[0]]\n",
    "    for i in range(len(a)):\n",
    "        if i%2==0:\n",
    "            a_0.append(a[i])\n",
    "        else:\n",
    "            a_1.append(a[i])\n",
    "    a0 = FFT (a_0)\n",
    "    a1 = FFT (a_1)\n",
    " \n",
    "    ang = 2 * pi / n\n",
    "    \n",
    "    \n",
    "    ans = [complex(0, 0)] * len(a)\n",
    "    w_exp = lambda x : np.exp(2*complex(0,1) * pi * x/ n)\n",
    "    for j in range(n // 2):\n",
    "        ans[j] = a0[j] + w_exp(j) * a1[j]\n",
    "        ans[j + n // 2] = a0[j] - w_exp(j) * a1[j]\n",
    "\n",
    "    \n",
    "    return ans"
   ]
  },
  {
   "cell_type": "code",
   "execution_count": null,
   "metadata": {},
   "outputs": [],
   "source": [
    "def FFTReverse (a):\n",
    "    n = len(a)\n",
    "    a_0=[]\n",
    "    a_1=[]\n",
    "    if (n == 1):\n",
    "        return [a[0]]\n",
    "    for i in range(len(a)):\n",
    "        if i%2==0:\n",
    "            a_0.append(a[i])\n",
    "        else:\n",
    "            a_1.append(a[i])\n",
    "    a0 = FFTReverse (a_0)\n",
    "    a1 = FFTReverse (a_1)\n",
    "    ans = [complex(0, 0)] * len(a) \n",
    "    w_exp = lambda x : np.exp(-2*complex(0,1) * pi * x/ n)\n",
    "    for j in range(n // 2):\n",
    "        ans[j] = a0[j] + w_exp(j) * a1[j];\n",
    "        ans[j + n // 2] = a0[j] - w_exp(j) * a1[j];\n",
    "        ans[j] = ans[j] / 2\n",
    "        ans[j + n // 2] = ans[j + n // 2] / 2;\n",
    "    return ans"
   ]
  },
  {
   "cell_type": "code",
   "execution_count": null,
   "metadata": {},
   "outputs": [],
   "source": [
    "def GetRealPart(ans):\n",
    "    a=[]\n",
    "    for i in range(len(ans)):\n",
    "        a.append(ans[i].real)\n",
    "    return a"
   ]
  },
  {
   "cell_type": "code",
   "execution_count": null,
   "metadata": {
    "scrolled": false
   },
   "outputs": [],
   "source": [
    "FunctionDraw(lambda x: x, \"f(x)=x\")\n",
    "FunctionDraw(lambda x: x**2, \"f(x)=x^2\")\n",
    "FunctionDraw(lambda x: sin(x), \"f(x)=sin x\")\n",
    "FunctionDraw(lambda x: sin(x**2), \"f(x)=sin x^2\")\n",
    "FunctionDraw(lambda x: sin(x) / (x + 1e-10), \"f(x)= (sin x) / x\") #to not cause division by zero\n"
   ]
  },
  {
   "cell_type": "code",
   "execution_count": null,
   "metadata": {},
   "outputs": [],
   "source": [
    "def FunctionFFT(f, title=\" \",T=10,N=128,D=0): #вызывая эту функцию с разными D можно экспериментально выяснить какой D подходит\n",
    "    j=log(N,2)\n",
    "    N=2**(int(j)+1)\n",
    "    x = []\n",
    "    y = []\n",
    "    for i in range(N):\n",
    "        x.append((T/N)*i)\n",
    "        y.append(f((T/N)*i))\n",
    "    g = FFT(y)\n",
    "    for i in range(1,int(D*N)):\n",
    "        g[len(g)-i]=0\n",
    "    y1=FFTReverse(g)\n",
    "    y1=GetRealPart(y1)\n",
    "    plt.xlabel(\"x\")\n",
    "    plt.ylabel(\"y\")\n",
    "    plt.title(title)\n",
    "    plt.plot(x, y1,'.b-')\n",
    "    \n",
    "    plt.show()"
   ]
  },
  {
   "cell_type": "code",
   "execution_count": null,
   "metadata": {},
   "outputs": [],
   "source": [
    "FunctionFFT(lambda x: x, \"f(x)=x\")\n",
    "FunctionFFT(lambda x: x**2, \"f(x)=x^2\")\n",
    "FunctionFFT(lambda x: sin(x), \"f(x)=sin x\")\n",
    "FunctionFFT(lambda x: sin(x**2), \"f(x)=sin x^2\")\n",
    "FunctionFFT(lambda x: sin(x+1e-10) / (x + 1e-10), \"f(x)= (sin x) / x\")\n"
   ]
  },
  {
   "cell_type": "markdown",
   "metadata": {},
   "source": [
    "## Как видно FFT и обратное FFT работают корректно"
   ]
  },
  {
   "cell_type": "code",
   "execution_count": null,
   "metadata": {},
   "outputs": [],
   "source": [
    "\n",
    "FunctionFFT(lambda x: x, \"f(x)=x\",T=10,N=128,D=0.03)#как видим если занулить хотя бы один коэффицент в FFT(g),то получится"
   ]
  },
  {
   "cell_type": "markdown",
   "metadata": {},
   "source": [
    "### как видим если занулить хотя бы один коэффицент в y=FFT(f(x)=x), и выполнить FFTReverse(y) ,  то получается какой-то бред,так как алгоритм рекурсивный и каждое слагаемое сильно влияет на его результат"
   ]
  },
  {
   "cell_type": "code",
   "execution_count": null,
   "metadata": {},
   "outputs": [],
   "source": [
    "%matplotlib inline\n",
    "FunctionFFT(lambda x: x**2, \"f(x)=x^2\",T=10,N=128,D=0.04)"
   ]
  },
  {
   "cell_type": "markdown",
   "metadata": {},
   "source": [
    "### как видим для не гармонических функций замена даже одного слагаемого критична"
   ]
  },
  {
   "cell_type": "code",
   "execution_count": null,
   "metadata": {},
   "outputs": [],
   "source": [
    "FunctionFFT(lambda x: sin(x**2), \"f(x)=sin(x^2)\",T=10,N=128,D=0.1)"
   ]
  },
  {
   "cell_type": "markdown",
   "metadata": {},
   "source": [
    "#### Для  гармонических же даже замена 1/10 слагаемых видна не так отчетливо"
   ]
  },
  {
   "cell_type": "code",
   "execution_count": null,
   "metadata": {},
   "outputs": [],
   "source": [
    "FunctionFFT(lambda x: sin(x), \"f(x)=sin x\",D=0.2)"
   ]
  },
  {
   "cell_type": "markdown",
   "metadata": {},
   "source": [
    "### в случае sin(x) зарезание  слагаемых ведет к уменьшению амлитуды но вид функции отстается тот же"
   ]
  },
  {
   "cell_type": "code",
   "execution_count": null,
   "metadata": {},
   "outputs": [],
   "source": [
    "FunctionFFT(lambda x: sin(x+1e-10) / (x + 1e-10), \"f(x)= (sin x) / x\",D=0.1)"
   ]
  },
  {
   "cell_type": "markdown",
   "metadata": {},
   "source": [
    "### как видно вблизи 0 когда x эквивалентен синусу различий почти нет,далее онм существенны"
   ]
  },
  {
   "cell_type": "code",
   "execution_count": null,
   "metadata": {},
   "outputs": [],
   "source": []
  },
  {
   "cell_type": "code",
   "execution_count": null,
   "metadata": {},
   "outputs": [],
   "source": []
  },
  {
   "cell_type": "code",
   "execution_count": null,
   "metadata": {},
   "outputs": [],
   "source": []
  },
  {
   "cell_type": "code",
   "execution_count": null,
   "metadata": {},
   "outputs": [],
   "source": []
  }
 ],
 "metadata": {
  "kernelspec": {
   "display_name": "Python 3",
   "language": "python",
   "name": "python3"
  },
  "language_info": {
   "codemirror_mode": {
    "name": "ipython",
    "version": 3
   },
   "file_extension": ".py",
   "mimetype": "text/x-python",
   "name": "python",
   "nbconvert_exporter": "python",
   "pygments_lexer": "ipython3",
   "version": "3.7.3"
  }
 },
 "nbformat": 4,
 "nbformat_minor": 2
}
